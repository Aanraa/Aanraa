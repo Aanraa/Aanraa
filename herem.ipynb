{
  "nbformat": 4,
  "nbformat_minor": 0,
  "metadata": {
    "colab": {
      "name": "herem.ipynb",
      "provenance": [],
      "collapsed_sections": [],
      "authorship_tag": "ABX9TyPF+aLgdLLcSwnbWUM9iXdo",
      "include_colab_link": true
    },
    "kernelspec": {
      "name": "python3",
      "display_name": "Python 3"
    },
    "language_info": {
      "name": "python"
    }
  },
  "cells": [
    {
      "cell_type": "markdown",
      "metadata": {
        "id": "view-in-github",
        "colab_type": "text"
      },
      "source": [
        "<a href=\"https://colab.research.google.com/github/Aanraa/Aanraa/blob/main/herem.ipynb\" target=\"_parent\"><img src=\"https://colab.research.google.com/assets/colab-badge.svg\" alt=\"Open In Colab\"/></a>"
      ]
    },
    {
      "cell_type": "markdown",
      "source": [
        ""
      ],
      "metadata": {
        "id": "jZFx1oC0WmvK"
      }
    },
    {
      "cell_type": "markdown",
      "source": [
        "Энэ хэсэгт татах хэрэгцээтэй үйлдлийн багцуудыг татаж авч буй байдал"
      ],
      "metadata": {
        "id": "qiY4GUoyIqjG"
      }
    },
    {
      "cell_type": "code",
      "source": [
        "!git clone https://github.com/kaldi-asr/kaldi.git\n",
        "!pip3 install vosk\n",
        "!git clone https://github.com/alphacep/vosk-api"
      ],
      "metadata": {
        "id": "ap6y26ep9i4F"
      },
      "execution_count": null,
      "outputs": []
    },
    {
      "cell_type": "code",
      "execution_count": 70,
      "metadata": {
        "id": "9s561sWHu6iO"
      },
      "outputs": [],
      "source": [
        "!pip install kora -q\n",
        "import kora.install.kaldi"
      ]
    },
    {
      "cell_type": "code",
      "source": [
        "import os\n",
        "os.chdir('kaldi/tools')\n",
        "!ls"
      ],
      "metadata": {
        "id": "d1zP4WQe4bkR",
        "colab": {
          "base_uri": "https://localhost:8080/",
          "height": 201
        },
        "outputId": "1d0287cb-d425-4d40-e074-2c26ac02284c"
      },
      "execution_count": 71,
      "outputs": [
        {
          "output_type": "error",
          "ename": "FileNotFoundError",
          "evalue": "ignored",
          "traceback": [
            "\u001b[0;31m---------------------------------------------------------------------------\u001b[0m",
            "\u001b[0;31mFileNotFoundError\u001b[0m                         Traceback (most recent call last)",
            "\u001b[0;32m<ipython-input-71-282fb8788a3b>\u001b[0m in \u001b[0;36m<module>\u001b[0;34m()\u001b[0m\n\u001b[1;32m      1\u001b[0m \u001b[0;32mimport\u001b[0m \u001b[0mos\u001b[0m\u001b[0;34m\u001b[0m\u001b[0;34m\u001b[0m\u001b[0m\n\u001b[0;32m----> 2\u001b[0;31m \u001b[0mos\u001b[0m\u001b[0;34m.\u001b[0m\u001b[0mchdir\u001b[0m\u001b[0;34m(\u001b[0m\u001b[0;34m'kaldi/tools'\u001b[0m\u001b[0;34m)\u001b[0m\u001b[0;34m\u001b[0m\u001b[0;34m\u001b[0m\u001b[0m\n\u001b[0m\u001b[1;32m      3\u001b[0m \u001b[0mget_ipython\u001b[0m\u001b[0;34m(\u001b[0m\u001b[0;34m)\u001b[0m\u001b[0;34m.\u001b[0m\u001b[0msystem\u001b[0m\u001b[0;34m(\u001b[0m\u001b[0;34m'ls'\u001b[0m\u001b[0;34m)\u001b[0m\u001b[0;34m\u001b[0m\u001b[0;34m\u001b[0m\u001b[0m\n",
            "\u001b[0;31mFileNotFoundError\u001b[0m: [Errno 2] No such file or directory: 'kaldi/tools'"
          ]
        }
      ]
    },
    {
      "cell_type": "markdown",
      "source": [
        "# New Section"
      ],
      "metadata": {
        "id": "yQ7to6rpxFPu"
      }
    },
    {
      "cell_type": "code",
      "source": [
        "!apt-get install -qq g++ automake autoconf libtool subversion"
      ],
      "metadata": {
        "id": "g-JY0_aD4zmA"
      },
      "execution_count": null,
      "outputs": []
    },
    {
      "cell_type": "code",
      "source": [
        "!make -j 4"
      ],
      "metadata": {
        "id": "PLbQqsYX45p3"
      },
      "execution_count": null,
      "outputs": []
    },
    {
      "cell_type": "code",
      "source": [
        "!extras/install_irstlm.sh"
      ],
      "metadata": {
        "id": "FTUT_5FTE7If"
      },
      "execution_count": null,
      "outputs": []
    },
    {
      "cell_type": "code",
      "source": [
        "!extras/install_srilm.sh anar NUM sh.anar@yahoo.com"
      ],
      "metadata": {
        "id": "ZIlc5srhFijk"
      },
      "execution_count": null,
      "outputs": []
    },
    {
      "cell_type": "code",
      "source": [
        "!sudo apt-get install gawk\n",
        "!sudo apt-get install mawk\n",
        "!sudo apt-get update && apt-get upgrade\n",
        "\n"
      ],
      "metadata": {
        "id": "ziQGzIxLGCDR"
      },
      "execution_count": null,
      "outputs": []
    },
    {
      "cell_type": "code",
      "source": [
        "!./extras/check_dependencies.sh"
      ],
      "metadata": {
        "id": "0azZj3dC5tVn"
      },
      "execution_count": null,
      "outputs": []
    },
    {
      "cell_type": "code",
      "source": [
        "!extras/install_mkl.sh"
      ],
      "metadata": {
        "id": "jGac4TY_54WK"
      },
      "execution_count": null,
      "outputs": []
    },
    {
      "cell_type": "code",
      "source": [
        "!sudo apt-get install sox"
      ],
      "metadata": {
        "id": "8FNd4QjF51lX"
      },
      "execution_count": null,
      "outputs": []
    },
    {
      "cell_type": "code",
      "source": [
        "os.chdir('../src')\n",
        "!ls"
      ],
      "metadata": {
        "id": "KtS39Mjd5HFE"
      },
      "execution_count": null,
      "outputs": []
    },
    {
      "cell_type": "code",
      "source": [
        "!./configure --shared\n",
        "!make depend -j 8"
      ],
      "metadata": {
        "id": "XjLmu0D_5K9b"
      },
      "execution_count": null,
      "outputs": []
    },
    {
      "cell_type": "code",
      "source": [
        "!make -j 8"
      ],
      "metadata": {
        "id": "aoOVPdzbYajE"
      },
      "execution_count": null,
      "outputs": []
    },
    {
      "cell_type": "code",
      "source": [
        "os.chdir('kaldi/egs/mini_librispeech/s5')\n",
        "!ls\n",
        "os.chdir('../')"
      ],
      "metadata": {
        "id": "XVbjWnw-Ax69"
      },
      "execution_count": null,
      "outputs": []
    }
  ]
}